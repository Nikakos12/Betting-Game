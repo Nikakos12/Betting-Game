{
 "cells": [
  {
   "cell_type": "code",
   "execution_count": 1,
   "id": "e12171e7",
   "metadata": {},
   "outputs": [],
   "source": [
    "# This is a blackjack game\n",
    "# It consists of a computer dealer and one player\n",
    "# The players can only hit or stand\n",
    "# Hope you have fun !!!"
   ]
  },
  {
   "cell_type": "code",
   "execution_count": 2,
   "id": "a8769011",
   "metadata": {},
   "outputs": [],
   "source": [
    "import random\n",
    "from IPython.display import clear_output\n",
    "\n",
    "hand_of_player = []\n",
    "hand_of_dealer = []\n",
    "total_dealer = 0"
   ]
  },
  {
   "cell_type": "code",
   "execution_count": 3,
   "id": "993d3a70",
   "metadata": {},
   "outputs": [],
   "source": [
    "suits = ('Hearts', 'Clubs', 'Spades', 'Diamonds')\n",
    "ranks= ('Two', 'Three', 'Four', 'Five', 'Six', 'Seven', 'Eight', 'Nine', 'Ten', 'Jack', 'Queen', 'King', 'Ace')\n",
    "values = {'Two': 2, 'Three': 3, 'Four':4, 'Five':5, 'Six':6, 'Seven':7, 'Eight':8, 'Nine':9, 'Ten':10, 'Jack':10, 'Queen':10, 'King':10,  'Ace': 1}"
   ]
  },
  {
   "cell_type": "code",
   "execution_count": 4,
   "id": "ae132b74",
   "metadata": {},
   "outputs": [],
   "source": [
    "class Cards:\n",
    "    \n",
    "    def __init__(self, suit, rank):\n",
    "        self.suit = suit\n",
    "        self.rank = rank\n",
    "        self.value = values[rank]\n",
    "        \n",
    "        \n",
    "    def __str__(self):\n",
    "        return f'{self.suit} of {self.rank}'\n",
    "    "
   ]
  },
  {
   "cell_type": "code",
   "execution_count": 5,
   "id": "f96334a4",
   "metadata": {},
   "outputs": [],
   "source": [
    "class Deck:\n",
    "    \n",
    "    def __init__(self):\n",
    "        \n",
    "        self.all_cards = []\n",
    "        for suit in suits:\n",
    "            for rank in ranks:\n",
    "                self.all_cards.append(Cards(suit,rank))\n",
    "        \n",
    "    def shuffle(self):\n",
    "        random.shuffle(self.all_cards)\n",
    "        \n",
    "    def deal_one(self):\n",
    "        return self.all_cards.pop(0)\n",
    "        \n",
    "        \n",
    "    def __str__(self):\n",
    "        return f'This is a {len(all_cards)} deck'"
   ]
  },
  {
   "cell_type": "code",
   "execution_count": 6,
   "id": "1cf64da4",
   "metadata": {},
   "outputs": [],
   "source": [
    "class Player:\n",
    "\n",
    "\n",
    "        \n",
    "    def __init__(self, name, balance):\n",
    "        self.name = name\n",
    "        self.balance = balance\n",
    "        \n",
    "        \n",
    "    def bet(self, bet_amount):\n",
    "        self.balance = self.balance -  bet_amount\n",
    "        return f' Your ramaining money is {self.balance - bet_amount}'\n",
    "    \n",
    "\n",
    "    \n",
    "    def __str__(self):\n",
    "        return f'Name: {self.name}, Balance: {self.balance}'"
   ]
  },
  {
   "cell_type": "code",
   "execution_count": 7,
   "id": "dc82c334",
   "metadata": {},
   "outputs": [],
   "source": [
    "def card_player_presentation():\n",
    "    print(f'{name} has the folowing cards: ')\n",
    "    for s in range(len(hand_of_player)):\n",
    "        print(hand_of_player[s])"
   ]
  },
  {
   "cell_type": "code",
   "execution_count": 8,
   "id": "2bab8c48",
   "metadata": {},
   "outputs": [],
   "source": [
    "def share():\n",
    "    hand_of_player.append(mydeck.deal_one())\n",
    "    hand_of_dealer.append(mydeck.deal_one())\n",
    "    print(f'{name} has: \\n {hand_of_player[0]}')\n",
    "    print(f'Dealer has: \\n {hand_of_dealer[0]}')\n",
    "    ace_check_dealer()\n",
    "    ace_check_player()\n",
    "\n",
    "    input('Press enter to continue')\n",
    "    hand_of_player.append(mydeck.deal_one())\n",
    "    hand_of_dealer.append(mydeck.deal_one())\n",
    "    print(f' {name} has: \\n {hand_of_player[0]}\\n {hand_of_player[1]}')\n",
    "    print(f'Dealer has: \\n {hand_of_dealer[0]}')\n",
    "    ace_check_dealer()\n",
    "    ace_check_player()"
   ]
  },
  {
   "cell_type": "code",
   "execution_count": 9,
   "id": "d1af6f21",
   "metadata": {},
   "outputs": [],
   "source": [
    "def ace_check_player():\n",
    "    if hand_of_player[-1].rank == 'Ace':\n",
    "        ask = int(input('Do you want your ACE to be counted as value of 1 or 11? type 1 or 11 depending on what you want'))\n",
    "        if ask == 1:\n",
    "            hand_of_player[-1].value = 1\n",
    "        else:\n",
    "            hand_of_player[-1].value = 11\n",
    "    else:\n",
    "        pass\n",
    "\n",
    "def ace_check_dealer():\n",
    "    if hand_of_player[-1].rank == 'Ace':\n",
    "        if total_dealer < 10:\n",
    "            hand_of_dealer[-1].value = 11\n",
    "        else:\n",
    "            hand_of_dealer[-1].rank = 1\n",
    "    else:\n",
    "        pass"
   ]
  },
  {
   "cell_type": "code",
   "execution_count": 10,
   "id": "c228844a",
   "metadata": {},
   "outputs": [],
   "source": [
    "nick  = Player('Nick', 2000)"
   ]
  },
  {
   "cell_type": "code",
   "execution_count": 11,
   "id": "cbd34b4b",
   "metadata": {},
   "outputs": [
    {
     "name": "stdout",
     "output_type": "stream",
     "text": [
      "Name: Nick, Balance: 2000\n"
     ]
    }
   ],
   "source": [
    "print(nick)"
   ]
  },
  {
   "cell_type": "code",
   "execution_count": 12,
   "id": "2f269f9e",
   "metadata": {},
   "outputs": [
    {
     "data": {
      "text/plain": [
       "2000"
      ]
     },
     "execution_count": 12,
     "metadata": {},
     "output_type": "execute_result"
    }
   ],
   "source": [
    "nick.balance"
   ]
  },
  {
   "cell_type": "code",
   "execution_count": 13,
   "id": "dab7a7f0",
   "metadata": {},
   "outputs": [],
   "source": [
    "b=100"
   ]
  },
  {
   "cell_type": "code",
   "execution_count": 14,
   "id": "daa8d780",
   "metadata": {},
   "outputs": [
    {
     "data": {
      "text/plain": [
       "' Your ramaining money is 1800'"
      ]
     },
     "execution_count": 14,
     "metadata": {},
     "output_type": "execute_result"
    }
   ],
   "source": [
    "nick.bet(b)"
   ]
  },
  {
   "cell_type": "code",
   "execution_count": null,
   "id": "83b5aaa0",
   "metadata": {},
   "outputs": [],
   "source": []
  },
  {
   "cell_type": "code",
   "execution_count": null,
   "id": "400cd5d7",
   "metadata": {},
   "outputs": [],
   "source": []
  },
  {
   "cell_type": "code",
   "execution_count": null,
   "id": "f5749366",
   "metadata": {},
   "outputs": [],
   "source": []
  },
  {
   "cell_type": "code",
   "execution_count": null,
   "id": "1b620395",
   "metadata": {},
   "outputs": [],
   "source": []
  },
  {
   "cell_type": "code",
   "execution_count": 15,
   "id": "72a556c0",
   "metadata": {},
   "outputs": [
    {
     "name": "stdout",
     "output_type": "stream",
     "text": [
      "Please insert your name: \n",
      "Nikos Vlachostergios\n",
      "Please enter your betting balance: \n",
      "50000\n",
      "Thank you for your answer\n",
      "Nikos Vlachostergios has: \n",
      " Clubs of Two\n",
      "Dealer has: \n",
      " Spades of Seven\n",
      "Press enter to continue\n",
      " Nikos Vlachostergios has: \n",
      " Clubs of Two\n",
      " Diamonds of Four\n",
      "Dealer has: \n",
      " Spades of Seven\n"
     ]
    }
   ],
   "source": [
    "mydeck = Deck()\n",
    "mydeck.shuffle()\n",
    "name = input('Please insert your name: \\n')\n",
    "\n",
    "deal_bust = 0\n",
    "player_bust = 0\n",
    "player_vic = 0\n",
    "dealer_vic = 0\n",
    "\n",
    "while True:\n",
    "    try:\n",
    "        balance = int(input('Please enter your betting balance: \\n'))\n",
    "        break\n",
    "    except:\n",
    "        print('Please enter an integer amount of betting balance')\n",
    "    finally:\n",
    "        print('Thank you for your answer')\n",
    "        \n",
    "player = Player(name,balance)\n",
    "\n",
    "share()"
   ]
  },
  {
   "cell_type": "code",
   "execution_count": 16,
   "id": "8f213c4e",
   "metadata": {},
   "outputs": [
    {
     "name": "stdout",
     "output_type": "stream",
     "text": [
      "Nikos Vlachostergios has the folowing cards: \n",
      "Clubs of Two\n",
      "Diamonds of Four\n",
      "Spades of Jack\n",
      "Dealer haaas a BUUUUST!!! \n",
      "Nikos Vlachostergios you have won this round!!!\n",
      "For now!!!!\n",
      "Nikos Vlachostergios has 1 victories and 0 BUUSTS\n",
      " and Dealer has 0 victories and 1 BUUUSTS\n",
      "Please type YES if you want to play another round or if you want to leave type NO \n",
      "no\n",
      "Thank you for playing !!!\n"
     ]
    }
   ],
   "source": [
    "game = True\n",
    "while game == True:\n",
    "                                                                                # Place your bet for the round\n",
    "    while True:\n",
    "        try:\n",
    "            bet_amount = int(input('Please enter your bet: \\n'))\n",
    "            if bet_amount <= balance:    \n",
    "                break\n",
    "        except:\n",
    "            print('Please enter an integer amount for bet')\n",
    "        finally:\n",
    "            print('Thank you for your answer')\n",
    "\n",
    "    player.bet(bet_amount)\n",
    "        \n",
    "                                                                                # Player's turn\n",
    "    answer = False\n",
    "    while answer == False:\n",
    "        request_player = input('Please type H, if you want to hit, S if you want to stand, or C for check: ')\n",
    "        if request_player.upper() =='H':\n",
    "            hand_of_player.append(mydeck.deal_one())\n",
    "            answer = True\n",
    "        elif request_player.upper() == 'S':\n",
    "            answer = True\n",
    "        elif request_player.upper() == 'C':\n",
    "            answer = True\n",
    "        else:\n",
    "            pass\n",
    "    clear_output()\n",
    "    ace_check_player()\n",
    "    card_player_presentation()\n",
    "    \n",
    "                                                                                #Dealer's turn\n",
    "    total_dealer = 0\n",
    "    for s in hand_of_dealer:\n",
    "        total_dealer = total_dealer + s.value\n",
    "    \n",
    "    if total_dealer > 16:\n",
    "        request_dealer = 'C'\n",
    "    else:\n",
    "        request_dealer = 'H'\n",
    "        hand_of_dealer.append(mydeck.deal_one())\n",
    "    ace_check_dealer()\n",
    "                                                                                # Is there a winner?\n",
    "    if request_player.upper() == 'C' and request_dealer.upper() == 'C':\n",
    "                                                                                #Checking for sums\n",
    "        total_dealer = 0\n",
    "        for s in hand_of_dealer:\n",
    "            total_dealer = total_dealer + s.value\n",
    "\n",
    "        total_player = 0\n",
    "        for s in hand_of_player:\n",
    "            total_player = total_player + s.value\n",
    "                                                                                #Is there a Bust?\n",
    "        if total_player>21 and total_dealer>21:\n",
    "            print('Two BUUSTS noone wins this round')\n",
    "            \n",
    "        elif total_player>21:\n",
    "            player_bust +=1\n",
    "            print(f'{name} haaas a BUUUUST!!! \\nDealer has won this round!!!')\n",
    "            dealer_vic +=1\n",
    "                                                                                #Comparing Sums\n",
    "        elif total_dealer>21:\n",
    "            deal_bust +=1\n",
    "            print(f'Dealer haaas a BUUUUST!!! \\n{name} you have won this round!!!')\n",
    "            player_vic +=1\n",
    "        \n",
    "                  \n",
    "        elif total_dealer>total_player:\n",
    "            print('Dealer has won this round')\n",
    "            dealer_vic +=1\n",
    "            print(f'Your remaining balance is {balance}.\\n')\n",
    "            \n",
    "        elif total_dealer<total_player:\n",
    "            print(f'{name} has won this round')\n",
    "            player_vic +=1\n",
    "            print(f'Your remaining balance is {balance}.\\n')\n",
    "            \n",
    "        print(f'For now!!!!\\n{name} has {player_vic} victories and {player_bust} BUUSTS\\n and Dealer has {dealer_vic} victories and {deal_bust} BUUUSTS')\n",
    "                                                                                  #Do you wanna leave?\n",
    "        while True:\n",
    "            if balance <=0:        #Loss because balance is zero\n",
    "                print(\"You have no maney to bet, YOU HAVEN'T WON!, do you want to play again?\")\n",
    "                ask = input(\"Please type YES if you want to play again or if you want to leave type NO \\n\")                \n",
    "                if ask.upper() == 'YES':     #Reseting game in case the player wants to play again\n",
    "                    mydeck = Deck()\n",
    "                    mydeck.shuffle()\n",
    "                    hand_of_dealer=[]\n",
    "                    hand_of_player=[]\n",
    "                    clear_output()\n",
    "                    dealer_vic = 0\n",
    "                    player_vic = 0\n",
    "                    while True:             #Entering balance\n",
    "                        try:\n",
    "                            balance = int(input('Please enter your betting balance: \\n'))\n",
    "                            break\n",
    "                        except:\n",
    "                            print('Please enter an integer amount of betting balance')\n",
    "                        finally:\n",
    "                            print('Thank you for your answer')\n",
    "                    share()\n",
    "                    break\n",
    "                elif ask.upper() == 'NO':\n",
    "                    game = False\n",
    "                    print('Thank you for playing !!!')\n",
    "                    break\n",
    "    \n",
    "                \n",
    "            else:\n",
    "                ask = input(\"Please type YES if you want to play another round or if you want to leave type NO \\n\")\n",
    "                if ask.upper() == 'YES': \n",
    "                    mydeck = Deck()\n",
    "                    mydeck.shuffle()\n",
    "                    hand_of_dealer=[]\n",
    "                    hand_of_player=[]\n",
    "                    clear_output()\n",
    "                    share()\n",
    "                    break\n",
    "                elif ask.upper() == 'NO':\n",
    "                    game = False\n",
    "                    print('Thank you for playing !!!')\n",
    "                    break\n",
    "        "
   ]
  },
  {
   "cell_type": "code",
   "execution_count": 17,
   "id": "ab31ec09",
   "metadata": {},
   "outputs": [
    {
     "name": "stdout",
     "output_type": "stream",
     "text": [
      "23\n"
     ]
    }
   ],
   "source": [
    "print(total_dealer)"
   ]
  },
  {
   "cell_type": "code",
   "execution_count": 18,
   "id": "90c5cc4c",
   "metadata": {},
   "outputs": [
    {
     "name": "stdout",
     "output_type": "stream",
     "text": [
      "16\n"
     ]
    }
   ],
   "source": [
    "print(total_player)"
   ]
  },
  {
   "cell_type": "code",
   "execution_count": 19,
   "id": "7fee71d4",
   "metadata": {},
   "outputs": [
    {
     "data": {
      "text/plain": [
       "' Your ramaining money is 47500'"
      ]
     },
     "execution_count": 19,
     "metadata": {},
     "output_type": "execute_result"
    }
   ],
   "source": [
    "player.bet(bet_amount)"
   ]
  },
  {
   "cell_type": "code",
   "execution_count": 20,
   "id": "c14ce68b",
   "metadata": {},
   "outputs": [
    {
     "name": "stdout",
     "output_type": "stream",
     "text": [
      "Clubs of Two\n",
      "Diamonds of Four\n",
      "Spades of Jack\n"
     ]
    }
   ],
   "source": [
    "for s in hand_of_player:\n",
    "    print(s)"
   ]
  },
  {
   "cell_type": "code",
   "execution_count": 21,
   "id": "f7cc0c77",
   "metadata": {},
   "outputs": [
    {
     "data": {
      "text/plain": [
       "2"
      ]
     },
     "execution_count": 21,
     "metadata": {},
     "output_type": "execute_result"
    }
   ],
   "source": [
    "hand_of_player[0].value"
   ]
  },
  {
   "cell_type": "code",
   "execution_count": 22,
   "id": "cf314267",
   "metadata": {},
   "outputs": [],
   "source": [
    "c= Cards('Clubs', 'Ace')"
   ]
  },
  {
   "cell_type": "code",
   "execution_count": 23,
   "id": "0a1301f7",
   "metadata": {},
   "outputs": [],
   "source": [
    "c.rank = 'Ace2'"
   ]
  },
  {
   "cell_type": "code",
   "execution_count": 24,
   "id": "1135e166",
   "metadata": {},
   "outputs": [
    {
     "data": {
      "text/plain": [
       "'Ace2'"
      ]
     },
     "execution_count": 24,
     "metadata": {},
     "output_type": "execute_result"
    }
   ],
   "source": [
    "c.rank"
   ]
  },
  {
   "cell_type": "code",
   "execution_count": null,
   "id": "babe5848",
   "metadata": {},
   "outputs": [],
   "source": []
  }
 ],
 "metadata": {
  "kernelspec": {
   "display_name": "Python 3 (ipykernel)",
   "language": "python",
   "name": "python3"
  },
  "language_info": {
   "codemirror_mode": {
    "name": "ipython",
    "version": 3
   },
   "file_extension": ".py",
   "mimetype": "text/x-python",
   "name": "python",
   "nbconvert_exporter": "python",
   "pygments_lexer": "ipython3",
   "version": "3.9.12"
  }
 },
 "nbformat": 4,
 "nbformat_minor": 5
}
